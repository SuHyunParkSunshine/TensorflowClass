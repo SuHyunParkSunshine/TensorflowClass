{
  "cells": [
    {
      "cell_type": "code",
      "execution_count": null,
      "metadata": {
        "id": "pVE-EXIwz8bl"
      },
      "outputs": [],
      "source": [
        "import tensorflow as tf\n",
        "import pandas as pd\n",
        "import matplotlib.pyplot as plt\n",
        "import numpy as np"
      ]
    },
    {
      "attachments": {},
      "cell_type": "markdown",
      "metadata": {
        "id": "iyWPGkZmMAJn"
      },
      "source": [
        "##"
      ]
    },
    {
      "attachments": {},
      "cell_type": "markdown",
      "metadata": {
        "id": "_BiBqFm52drj"
      },
      "source": [
        "# 2.7 linear algebra"
      ]
    },
    {
      "cell_type": "code",
      "execution_count": null,
      "metadata": {
        "id": "1r7f-gFB40DX"
      },
      "outputs": [],
      "source": [
        "# https://www.tensorflow.org/api_docs/python/tf/linalg\n",
        "# Operations for linear algebra.\n",
        "\n",
        "import tensorflow as tf\n",
        "#1 L2 norm (유클리디언 거리)\n",
        "# https://www.tensorflow.org/api_docs/python/tf/norm\n",
        "\n",
        "a = tf.constant([1, 2], dtype=tf.float32)\n",
        "print('a', a)\n",
        "print('tf.norm(a)', tf.norm(a)) # tf.linalg.norm(a)\n",
        "\n",
        "#2 transpose\n",
        "A = tf.constant([[1, 2], [3, 4]], dtype=tf.float32)\n",
        "print('A', A)\n",
        "print('tf.linalg.matrix_transpose(A)', tf.linalg.matrix_transpose(A))\n",
        "\n",
        "#3 determinant\n",
        "print('tf.linalg.det(A)', tf.linalg.det(A))\n",
        "\n",
        "#4 inverse matrix\n",
        "B =  tf.linalg.inv(A)\n",
        "print('B', B)\n",
        "\n",
        "#5 matrix multiplication\n",
        "print('tf.matmul(A, B)', tf.matmul(A, B))  # tf.linalg.matmul(A, B)\n"
      ]
    },
    {
      "attachments": {},
      "cell_type": "markdown",
      "metadata": {
        "id": "rDWfJGOn5zUP"
      },
      "source": [
        "**matrix equation**\n",
        "\n",
        "Ax = b\n",
        "\n",
        "==> x = A<sup>-1</sup> x b\n",
        "\n",
        "A<sup>-1</sup> = $\\frac{1}{DET(A)}$ A"
      ]
    },
    {
      "cell_type": "code",
      "execution_count": 3,
      "metadata": {
        "id": "SLoqrqqM6wJ_"
      },
      "outputs": [
        {
          "name": "stdout",
          "output_type": "stream",
          "text": [
            "tf.Tensor(-11.000001, shape=(), dtype=float32)\n",
            "x1 tf.Tensor(\n",
            "[[2.]\n",
            " [1.]], shape=(2, 1), dtype=float32)\n",
            "tf.Tensor(\n",
            "[[2.]\n",
            " [1.]], shape=(2, 1), dtype=float32) tf.Tensor(\n",
            "[[2.]\n",
            " [1.]], shape=(2, 1), dtype=float32)\n",
            "(<tf.Tensor: shape=(2, 1), dtype=float32, numpy=\n",
            "array([[2.],\n",
            "       [1.]], dtype=float32)>, <tf.Tensor: shape=(2, 1), dtype=float32, numpy=\n",
            "array([[2.],\n",
            "       [1.]], dtype=float32)>)\n"
          ]
        }
      ],
      "source": [
        "#1 Ax = b\n",
        "A = tf.constant([[1, 2],\n",
        "                 [3, -5]], dtype=tf.float32)\n",
        "\n",
        "b = tf.constant([[4],\n",
        "                 [1]], dtype=tf.float32)\n",
        "\n",
        "#2 DET(A)\n",
        "print(tf.linalg.det(A))\n",
        "\n",
        "def solve(A, b):\n",
        "  # x = A^-1 x b\n",
        "  x1 = tf.matmul(tf.linalg.inv(A), b)\n",
        "  print('x1', x1)\n",
        "\n",
        "  # https://www.tensorflow.org/api_docs/python/tf/linalg/solve\n",
        "  # Solves systems of linear equations.\n",
        "  x2 = tf.linalg.solve(A, b)  # x = 2, y = 1\n",
        "  print(x1, x2)\n",
        "\n",
        "  return x1, x2\n",
        "\n",
        "print(solve(A, b))"
      ]
    },
    {
      "attachments": {},
      "cell_type": "markdown",
      "metadata": {
        "id": "l9xUGEXn8puD"
      },
      "source": [
        "**LU decomposition**\n",
        "\n",
        "A = LU 로 분해하여\n",
        "\n",
        "Ax = b 를 푸는 과정에 활용해 보면,\n",
        "\n",
        "=> LUx = b\n",
        "\n",
        "=> Ux = Z  로 놓고\n",
        "\n",
        "=> LZ = b  를 풀고\n",
        "\n",
        "=> Ux = z 를 풀면\n",
        "\n",
        "x 를 구할 수 있음\n",
        "(역행렬 방법과 비교하여 빠르고, 메모리 적게 사용해서 계산 가능)"
      ]
    },
    {
      "cell_type": "code",
      "execution_count": 4,
      "metadata": {
        "id": "pi3HiAi59fXt"
      },
      "outputs": [
        {
          "name": "stdout",
          "output_type": "stream",
          "text": [
            "tf.linalg.lu(A) tf.Tensor(\n",
            "[[ 3.         -5.        ]\n",
            " [ 0.33333334  3.6666667 ]], shape=(2, 2), dtype=float32) tf.Tensor([1 0], shape=(2,), dtype=int32)\n",
            "x tf.Tensor(\n",
            "[[2.]\n",
            " [1.]], shape=(2, 1), dtype=float32)\n"
          ]
        }
      ],
      "source": [
        "A = tf.constant([[1, 2],\n",
        "                 [3, -5]], dtype=tf.float32)\n",
        "\n",
        "b = tf.constant([[4],\n",
        "                 [1]], dtype=tf.float32)\n",
        "\n",
        "# https://www.tensorflow.org/api_docs/python/tf/linalg/lu\n",
        "# Computes the LU decomposition of one or more square matrices.\n",
        "\n",
        "lu, p = tf.linalg.lu(A)\n",
        "print('tf.linalg.lu(A)', lu, p)\n",
        "\n",
        "x = tf.linalg.lu_solve(lu, p, b)\n",
        "print('x', x)\n",
        "\n",
        "# L = tf.linalg.band_part(lu,-1,0) - tf.linalg.diag(tf.linalg.diag_part(lu)) + tf.linalg.diag(tf.ones(shape = lu.shape[0],))\n",
        "# U = tf.linalg.band_part(lu, 0, -1)\n",
        "# permu_operator = tf.linalg.LinearOperatorPermutation(p)\n",
        "# P = permu_operator.to_dense()\n",
        "\n",
        "# print('L', L)\n",
        "# print('U', U)\n",
        "\n",
        "# AA = tf.matmul(P, tf.matmul(L,U), transpose_a = True)\n",
        "# print('AA', AA)\n",
        "\n",
        "# AAA = tf.linalg.lu_reconstruct(lu, p)\n",
        "# print('AAA', AAA)"
      ]
    },
    {
      "attachments": {},
      "cell_type": "markdown",
      "metadata": {
        "id": "4SNn22puAZmm"
      },
      "source": [
        "**least squares**\n",
        "\n",
        "(0, 6), (1, 0), (2, 0) 을 지나는 가장 가까운 직선의 방정식은?\n",
        "\n",
        "6 = a x 0 + b\n",
        "\n",
        "0 = a x 1 + b\n",
        "\n",
        "0 = a x 2 + b\n",
        "\n",
        "위 수식을 모두 만족하는 a 는 존재하는가?\n",
        "\n",
        "=> 존재하지 않으면 **차이가 최소(에러가 최소)**가 되는 근사값 $\\hat{a}$ 을 구해보자!\n",
        "\n",
        "Error<sup>2</sup> = (6 - (a x 0 + b))<sup>2</sup> + (0 - (a x 1 + b))<sup>2</sup> + (0 - (a x 2 + b))<sup>2</sup>\n",
        "\n",
        "=> 행렬로 풀려면 공식 이용\n",
        "\n",
        "$X = \\begin{bmatrix}\\hat{a}\\\\\n",
        "\\hat{b}\n",
        "\\end{bmatrix}$\n",
        "\n",
        "(A<sup>T</sup>A)X = A<sup>T</sup>b\n",
        "\n",
        "(참고: https://en.wikipedia.org/wiki/Linear_least_squares)\n",
        "\n",
        "\n",
        "=> 2차 방정식이므로 $\\hat{a}$ 과 $\\hat{b}$ 에 대해 미분하자!\n"
      ]
    },
    {
      "attachments": {},
      "cell_type": "markdown",
      "metadata": {
        "id": "tQYksr0Z_N8a"
      },
      "source": [
        "# 2.8 gradient decent\n",
        "\n",
        "수학에서 경사 하강법은 미분 가능 함수의 로컬 최소값을 찾기 위한 1차 반복 최적화 알고리즘입니다.\n",
        "\n",
        "알고리즘: 현재 지점에서 함수의 기울기의 반대 방향(빼줌)으로 반복되는 단계를 수행하는 것이며, 그 결과로 local minimum을 찾을 수 있습니다.\n",
        "\n",
        "$x = x - lr * dx$\n",
        "\n",
        "\n",
        "[gradient decent](https://en.wikipedia.org/wiki/Gradient_descent)\n",
        "\n",
        "\n",
        "<img src=\"https://drive.google.com/uc?id=1H77kMZ1UhsB3N7HRXJ77StzJzTyXodf0\" width=\"400\"/>\n",
        "\n",
        "[Animation](https://medium.com/onfido-tech/machine-learning-101-be2e0a86c96a)\n"
      ]
    },
    {
      "attachments": {},
      "cell_type": "markdown",
      "metadata": {
        "id": "mAdWjUPAA7sH"
      },
      "source": [
        "\n",
        "예)\n",
        "\n",
        "<img src=\"https://drive.google.com/uc?id=1vcxLliVPoM6Lw6HfFEQAFiXDf3J0CjL_\" width=\"200\"/>\n",
        "\n",
        "\n",
        "$ F = (x-1)^2$\n",
        "\n",
        "=> $x^2 -2x + 1$\n",
        "\n",
        "[2차 함수](https://www.geogebra.org/m/xgdQkfk3)\n",
        "\n"
      ]
    },
    {
      "cell_type": "code",
      "execution_count": 5,
      "metadata": {
        "colab": {
          "base_uri": "https://localhost:8080/",
          "height": 352
        },
        "id": "w7EJ3u3DETMt",
        "outputId": "fe4a8aff-0b10-4bf9-9fc5-2972040fdfe0"
      },
      "outputs": [
        {
          "data": {
            "text/plain": [
              "Text(0, 0.5, '$y=x^2-2x+1$')"
            ]
          },
          "execution_count": 5,
          "metadata": {},
          "output_type": "execute_result"
        },
        {
          "data": {
            "image/png": "[encoded data removed]",
            "text/plain": [
              "<Figure size 500x500 with 1 Axes>"
            ]
          },
          "metadata": {},
          "output_type": "display_data"
        }
      ],
      "source": [
        "def f(x):\n",
        "  return x**2 - 2*x + 1\n",
        "\n",
        "def f_prime(x):\n",
        "  h = 0.01\n",
        "  return (f(x+h)-f(x)) / h\n",
        "\n",
        "def f_prime2(x):\n",
        "  return 2*x - 2\n",
        "\n",
        "all_x = tf.linspace(-5,5,100)\n",
        "all_y = f(all_x)\n",
        "\n",
        "x = tf.Variable(-4.) # initial value\n",
        "LR = 0.1\n",
        "\n",
        "x_history, y_history = [], []\n",
        "for _ in range(100):\n",
        "  y = f(x)\n",
        "  step = LR*f_prime(x)\n",
        "\n",
        "  x_history.append(x.numpy())\n",
        "  y_history.append(y.numpy())\n",
        "\n",
        "  x.assign_sub(step)  # x = x - lr*dx\n",
        "\n",
        "fig, ax = plt.subplots(figsize=(5,5))\n",
        "ax.plot(all_x, all_y)\n",
        "ax.scatter(x_history, y_history)\n",
        "plt.xlabel('$x$')\n",
        "plt.ylabel('$y=x^2-2x+1$')"
      ]
    },
    {
      "attachments": {},
      "cell_type": "markdown",
      "metadata": {
        "id": "bea_5I3I0ZNi"
      },
      "source": [
        "# 과제 001\n",
        "\n",
        "주어진 함수를 이용하여 gradient descent 를 직접 구현하고 그래프를 그리시오.\n",
        "\n",
        "\n",
        "**제출**\n",
        "\n",
        "구현한 코드가 담긴 colab 파일을 PLATO \"텐서플로 과제 제출 01\"에 제출하세요. (23/7/6까지)\n",
        "\n",
        "```\n",
        "def f(x):\n",
        "    return x**4 - 3*x**3 +2\n",
        "\n",
        "def fprime(x):\n",
        "    h = 0.001\n",
        "    return (f(x+h) - f(x))/h\n",
        "```\n",
        "\n",
        "* 힌트: 교과서 44p를 **참고**"
      ]
    },
    {
      "attachments": {},
      "cell_type": "markdown",
      "metadata": {
        "id": "a3tV2kTk3Yqb"
      },
      "source": [
        "Chapter03 회귀(Regression)\n",
        "\n",
        "05 평균 제곱 오차 손실함수\n",
        "\n",
        "06 넘파이 단순 선형 회귀\n",
        "\n",
        "07 자동 미분 계산\n",
        "\n",
        "08 텐서플로 단순 선형 회귀\n",
        "\n",
        "09 다변수 선형 회귀\n",
        "\n",
        "10 tf.keras.optimizers를 이용한 학습\n",
        "\n",
        "11 다항식 회귀\n"
      ]
    },
    {
      "attachments": {},
      "cell_type": "markdown",
      "metadata": {
        "id": "Q9ZWR-b55Kjq"
      },
      "source": [
        "# ch3. regression\n",
        "\n",
        "통계에서 선형 회귀는 스칼라 응답(e.g.,키)와 하나 이상의 설명 변수(e.g.,몸무게) 간의 관계를 모델링하기 위한 선형 접근 방식입니다.\n",
        "\n",
        "주로 어떤 값을 예측하기 위해 많이 사용합니다.\n",
        "\n",
        "예를 들어, 100명의 키와 몸무게 데이터가 엑셀과 같이 row, column의 테이블 데이터 형식으로 주어질 때, 몸무게를 입력하면 키를 예측하거나 그 반대의 경우를 예측하는 경우에 사용할 수 있습니다.\n",
        "\n",
        "* simple linear regression: 몸무게 하나로 키를 예측할 때\n",
        "* multiple linear regression: 몸무게와 나이로 키를 예측할 때\n",
        "\n",
        "[선형회귀](https://en.wikipedia.org/wiki/Linear_regression)\n",
        "\n"
      ]
    },
    {
      "cell_type": "code",
      "execution_count": null,
      "metadata": {
        "id": "6fbaUQMqDcd2"
      },
      "outputs": [],
      "source": [
        "import tensorflow as tf\n",
        "import pandas as pd\n",
        "import matplotlib.pyplot as plt\n",
        "import numpy as np"
      ]
    },
    {
      "attachments": {},
      "cell_type": "markdown",
      "metadata": {
        "id": "E6hE1RFTOmk3"
      },
      "source": [
        "\n",
        "# 3.1 mean squared error"
      ]
    },
    {
      "attachments": {},
      "cell_type": "markdown",
      "metadata": {
        "id": "plrcAI0qM54F"
      },
      "source": [
        "\n",
        "\n",
        "$$MSE = \\frac{1}{n}\\sum_{i=1}^{n}(y-\\hat{y})^2$$\n",
        "\n",
        "**왜 MSE 인가?**\n",
        "\n",
        "* 1차원이면\n",
        "\n",
        "> 미분이 안되거나, loss 의 합이 0인 경우에 잘못된 결과를 도출할 수 있음\n",
        "\n",
        "* 3 차원 이상이면\n",
        "\n",
        "> overfit 될 수 있고, 여러 개의 local optimal points 존재할 수 있음\n",
        "\n",
        "\n"
      ]
    },
    {
      "cell_type": "code",
      "execution_count": null,
      "metadata": {
        "id": "scMY5STt28Ya"
      },
      "outputs": [],
      "source": [
        "def MSE(y, t):\n",
        "  return tf.reduce_mean(tf.square(y - t))   # (y - t)**2\n",
        "\n",
        "# https://www.tensorflow.org/api_docs/python/tf/keras/losses/MeanSquaredError\n",
        "# Computes the mean of squares of errors between labels and predictions.\n",
        "tf_MSE = tf.keras.losses.MeanSquaredError()\n",
        "\n",
        "t = tf.constant([1, 2, 3, 4], dtype=tf.float32)\n",
        "\n",
        "y1 = tf.constant([0.5, 1, 1.5, 2])\n",
        "y2 = tf.constant([0.5, 1.5, 2.5, 3.5])\n",
        "\n",
        "print(\"MSE(t, y1)\", MSE(t, y1))\n",
        "print(\"MSE(t, y2)\", MSE(t, y2))\n",
        "\n",
        "print(\"tf_MSE(t, y1)\", tf_MSE(t, y1))\n",
        "print(\"tf_MSE(t, y2)\", tf_MSE(t, y2))"
      ]
    },
    {
      "attachments": {},
      "cell_type": "markdown",
      "metadata": {
        "id": "eLYfkA2FTaqE"
      },
      "source": [
        "# 3.2 automatic differentiation\n",
        "\n",
        "* 자동으로 미분하기 위해 forward pass 동안 어떤 연산이 어떤 순서로 발생하는지 기억해야 함\n",
        "\n",
        "* 그런 다음 backward pass 중에 gradient 를 계산하기 위해 이 연산 목록을 역순으로 순회함\n",
        "\n",
        "* 이를 위해 tf.GradientTape 을 사용함\n",
        "\n",
        "[자동미분](https://www.tensorflow.org/guide/autodiff)"
      ]
    },
    {
      "cell_type": "code",
      "execution_count": null,
      "metadata": {
        "id": "A4-z64FdXnAg"
      },
      "outputs": [],
      "source": [
        "x = tf.Variable(2.0) # tf.Variable(2.0, trainable=True)\n",
        "y = tf.Variable(3.0) # tf.Variable(3.0, trainable=True)\n",
        "\n",
        "# https://www.tensorflow.org/api_docs/python/tf/GradientTape\n",
        "# Record operations for automatic differentiation.\n",
        "\n",
        "with tf.GradientTape() as tape:\n",
        "    z = x**2 + y**2\n",
        "\n",
        "# dx = 2x -> 4\n",
        "# dy = 2y -> 6\n",
        "dx, dy = tape.gradient(z, [x, y])\n",
        "print('dx=', dx.numpy())\n",
        "print('dy=', dy.numpy())\n",
        "\n",
        "x = tf.Variable(3.0)\n",
        "\n",
        "with tf.GradientTape() as tape:\n",
        "  y = x**2\n",
        "\n",
        "# dy = 2x * dx => 6\n",
        "dy_dx = tape.gradient(y, x)\n",
        "print('dy_dx.numpy()', dy_dx.numpy())"
      ]
    },
    {
      "cell_type": "code",
      "execution_count": null,
      "metadata": {
        "id": "NaDND0z-U-JM"
      },
      "outputs": [],
      "source": [
        "# multiple variables\n",
        "W = tf.Variable(tf.random.normal((3, 2)), name='w')\n",
        "b = tf.Variable(tf.zeros(2, dtype=tf.float32), name='b')\n",
        "x = [[1., 2., 3.]]\n",
        "\n",
        "with tf.GradientTape(persistent=True) as tape:\n",
        "  # Since python >= 3.5 the @ operator is supported (see PEP 465).\n",
        "  # In TensorFlow, it simply calls the tf.matmul() function\n",
        "  y = x @ W + b\n",
        "  loss = tf.reduce_mean(y**2)\n",
        "\n",
        "[dl_dW, dl_db] = tape.gradient(loss, [W, b])\n",
        "\n",
        "print('W', W)\n",
        "print('b', b)\n",
        "print('dl_dw', dl_dW)\n",
        "print('dl_db', dl_db)\n",
        "\n",
        "my_vars = {\n",
        "    'W': W,\n",
        "    'b': b\n",
        "}\n",
        "\n",
        "grad = tape.gradient(loss, my_vars)\n",
        "print('grad[W]', grad['W'])\n",
        "print('grad[b]', grad['b'])"
      ]
    },
    {
      "attachments": {},
      "cell_type": "markdown",
      "metadata": {
        "id": "4FSLtAhk6BRE"
      },
      "source": [
        "# 3.3 MSE with SGD\n",
        "\n",
        "gradient descent 는 계산량이 많아 데이터가 많으면 느리다 (보통 GPU 메모리가 부족함 ㅠㅠ)\n",
        "\n",
        "* f 의 도함수를 구한 후 관찰값의 개수만큼 모두 계산함 (예 1,000개의 센서 데이터)\n",
        "* $x_{1}, x_{2}, x_{3}...$ 등으로 n 개의 features 로 f 값을 계산 시 n개 각각 계산해야 함\n",
        "* epochs이 100 번이라면, 1000 * n * 100 미분\n",
        "\n",
        "반면에, Stochastic Gradient Descent 는\n",
        "\n",
        "* **실제 기울기(전체 데이터 세트에서 계산)를 추정치(데이터 세트에서 임의로 하나 선택하여 계산)로 대체하여 근사함**\n",
        "\n",
        "* 고차원 최적화 문제에서 계산 부담을 줄여줌\n",
        "\n",
        "* but, zig-zag 패턴 및 수렴 속도가 엄청(?) 느려질 수 있고, 하나 고른 데이터가 outlier 일 경우에 영향을 많이 받을 수 있음\n",
        "\n",
        "* mini-batch 전략으로 보완함\n",
        "\n",
        "[확률적 경사 하강법](https://en.wikipedia.org/wiki/Stochastic_gradient_descent)\n",
        "\n",
        "<br>\n",
        "\n",
        "| Stochastic | Batch |\n",
        "| ----------- | ----------- |\n",
        "| <img src=\"https://www.mltut.com/wp-content/uploads/2020/04/Untitled-document-5.png\"> | <img src=\"https://www.mltut.com/wp-content/uploads/2020/04/Untitled-document-4.png\"> |\n",
        "\n",
        "<br>\n",
        "\n",
        "\n",
        "<img src=\"https://sds-platform-private.s3-us-east-2.amazonaws.com/uploads/48_blog_image_2.png\">\n",
        "\n",
        "\n",
        "<img src=\"https://miro.medium.com/v2/resize:fit:1400/format:webp/1*kbP1fkMFrcjwBO3NVP9OfQ.png\">\n",
        "\n",
        "\n",
        "\n",
        "\n",
        "\n",
        "\n",
        "\n",
        "\n",
        "\n",
        "\n",
        "\n"
      ]
    },
    {
      "cell_type": "code",
      "execution_count": null,
      "metadata": {
        "colab": {
          "base_uri": "https://localhost:8080/",
          "height": 620
        },
        "id": "V_eMWI0zGAyq",
        "outputId": "ae8c5ab6-c659-497c-cc00-7df5c4acd09a"
      },
      "outputs": [],
      "source": [
        "#Mini Batch Gradient Descent\n",
        "def f(x, w, b):\n",
        "  return w*x + b\n",
        "\n",
        "def MSE(y, t):\n",
        "  return tf.reduce_mean((y-t)**2)\n",
        "\n",
        "def w_grad_MSE(y, t, w, b):\n",
        "  return 2*tf.reduce_mean((y-t_batch)*x_batch)\n",
        "\n",
        "def b_grad_MSE(y, t, w, b):\n",
        "  return 2*tf.reduce_mean((y-t_batch))\n",
        "\n",
        "x = tf.range(-10,10, dtype=tf.float32)\n",
        "t = tf.range(-10,10, dtype=tf.float32)\n",
        "\n",
        "print('x', x)\n",
        "print('t', t)\n",
        "\n",
        "w = tf.Variable(tf.random.normal([]))\n",
        "b = tf.Variable(tf.random.normal([]))\n",
        "\n",
        "#w = tf.Variable(0.5)\n",
        "#b = tf.Variable(0.0)\n",
        "\n",
        "print('w', w)\n",
        "print('b', b)\n",
        "\n",
        "lr = 0.01  # 0.01, learning rate\n",
        "loss_list = []\n",
        "\n",
        "train_size = tf.size(t) # 12\n",
        "batch_size = 4\n",
        "\n",
        "# mini batch SGD\n",
        "K = train_size // batch_size # 3\n",
        "\n",
        "for epoch in range(100):\n",
        "    loss = 0\n",
        "    for step in range(K):\n",
        "        mask = np.random.choice(train_size, batch_size)\n",
        "        #print(mask)\n",
        "        # https://www.tensorflow.org/api_docs/python/tf/gather\n",
        "        # Gather slices from params axis axis according to indices.\n",
        "        x_batch = tf.gather(x, indices=mask)\n",
        "        t_batch = tf.gather(t, indices=mask)\n",
        "\n",
        "        y_batch = f(x_batch, w, b) #w*x_batch + b\n",
        "        loss = MSE(y_batch, t_batch) # calculate MSE\n",
        "        dw = w_grad_MSE(y_batch, t_batch, w, b)\n",
        "        db = b_grad_MSE(y_batch, t_batch, w, b)\n",
        "        #dw = 2*tf.reduce_mean((y-t_batch)*x_batch) # gradients\n",
        "        #db = 2*tf.reduce_mean((y-t_batch))\n",
        "        #print('dw', dw)\n",
        "        #print('db', db)\n",
        "        w.assign_sub(lr*dw)\n",
        "        b.assign_sub(lr*db)\n",
        "\n",
        "    loss /= tf.cast(K, dtype=tf.float32)   # average loss\n",
        "    loss_list.append(loss.numpy())\n",
        "    if not epoch%10:\n",
        "        print(\"epoch={}: w={:>8.4f}. b={:>8.4f}, loss={:>8.4f}\".format(epoch, w.numpy(), b.numpy(), loss.numpy()))\n",
        "\n",
        "print(\"w={:>8.4f}. b={:>8.4f}, loss={:>8.4f}\".format(w.numpy(), b.numpy(), loss.numpy()))\n",
        "\n",
        "plt.plot(loss_list)\n",
        "plt.xlabel('epochs')\n",
        "plt.ylabel('loss')\n",
        "plt.show()"
      ]
    },
    {
      "cell_type": "code",
      "execution_count": null,
      "metadata": {
        "colab": {
          "base_uri": "https://localhost:8080/",
          "height": 616
        },
        "id": "6QEEtOLa3Gom",
        "outputId": "f8714f5d-915b-4d8e-d3c6-3ea9f52dd4d9"
      },
      "outputs": [],
      "source": [
        "#Mini Batch Gradient Descent\n",
        "def f(x, w, b):\n",
        "  return w*x + b\n",
        "\n",
        "def MSE(y, t):\n",
        "  return tf.reduce_mean((y-t)**2)\n",
        "\n",
        "x = tf.range(-10, 10, dtype=tf.float32)\n",
        "t = tf.range(-10, 10, dtype=tf.float32)\n",
        "\n",
        "print('x', x)\n",
        "print('t', t)\n",
        "\n",
        "w = tf.Variable(tf.random.normal([]))\n",
        "b = tf.Variable(tf.random.normal([]))\n",
        "\n",
        "#w = tf.Variable(0.5)\n",
        "#b = tf.Variable(0.0)\n",
        "\n",
        "print('w', w)\n",
        "print('b', b)\n",
        "\n",
        "lr = 0.01  # 0.01, learning rate\n",
        "loss_list = []\n",
        "\n",
        "train_size = tf.size(t) # 12\n",
        "batch_size = 4\n",
        "\n",
        "# mini batch SGD\n",
        "K = train_size // batch_size # 3\n",
        "\n",
        "for epoch in range(100):\n",
        "    loss = 0\n",
        "    for step in range(K):\n",
        "        mask = np.random.choice(train_size, batch_size)\n",
        "        #print(mask)\n",
        "        # https://www.tensorflow.org/api_docs/python/tf/gather\n",
        "        # Gather slices from params axis axis according to indices.\n",
        "        x_batch = tf.gather(x, indices=mask)\n",
        "        t_batch = tf.gather(t, indices=mask)\n",
        "        with tf.GradientTape() as tape:\n",
        "          y_batch = f(x_batch, w, b) #w*x_batch + b\n",
        "          loss = MSE(y_batch, t_batch) # calculate MSE & loss_mean\n",
        "\n",
        "        [dw, db] = tape.gradient(loss, [w,b])\n",
        "        # dW = 2*tf.reduce_mean((y-t_batch)*x_batch) # gradients\n",
        "        # dB = 2*tf.reduce_mean((y-t_batch))\n",
        "        #print('dW', dW)\n",
        "        #print('dB', dB)\n",
        "        w.assign_sub(lr*dw)\n",
        "        b.assign_sub(lr*db)\n",
        "\n",
        "    loss /= tf.cast(K, dtype=tf.float32)   # average loss\n",
        "    loss_list.append(loss.numpy())\n",
        "    if not epoch%10:\n",
        "        print(\"epoch={}: w={:>8.4f}. b={:>8.4f}, loss={:>8.4f}\".format(epoch, w.numpy(), b.numpy(), loss.numpy()))\n",
        "\n",
        "print(\"w={:>8.4f}. b={:>8.4f}, loss={:>8.4f}\".format(w.numpy(), b.numpy(), loss.numpy()))\n",
        "\n",
        "plt.plot(loss_list)\n",
        "plt.xlabel('epochs')\n",
        "plt.ylabel('loss')\n",
        "plt.show()"
      ]
    },
    {
      "attachments": {},
      "cell_type": "markdown",
      "metadata": {
        "id": "qif2NTMDfnQw"
      },
      "source": [
        "## 3.3.1 tf.keras optimizers\n",
        "\n",
        "### SGD: Gradient descent (with momentum) optimizer.\n",
        "\n",
        "$$\\vec{v_{t}} = \\rho\\cdot\\vec{v_{t-1}} - lr\\cdot\\vec{dw}$$\n",
        "$$w = w + v_{t}$$\n",
        "\n",
        "```python\n",
        "tf.keras.optimizers.SGD(\n",
        "    learning_rate=0.01,  \n",
        "    momentum=0.0,        \n",
        "    ...\n",
        ")\n",
        "```\n",
        "### Adagrad\n",
        "\n",
        "learning rate 에 지금까지 계산한 gradient 제곱값의 누적합(G)를 나눠서 갱신함\n",
        "\n",
        "기울기가 급격하게 변화할 때 lr 값이 작아지고, 반대일 때 커진다.\n",
        "\n",
        "학습을 많이할 수록 learning rate가 점점 작아짐\n",
        "\n",
        "$$w = w - lr\\cdot\\frac{1}{\\sqrt{G+\\epsilon}}\\cdot dw$$\n",
        "\n",
        "```python\n",
        "tf.keras.optimizers.Adagrad(\n",
        "    learning_rate=0.001,\n",
        "    epsilon=1e-07,\n",
        "    ...\n",
        ")\n",
        "```\n",
        "\n",
        "### RMSprop\n",
        "\n",
        "Adagrad의 G를 구할 때, 직전 단계의 G 누적합에 $\\rho$ 값으로 반영 비율을 조절함\n",
        "\n",
        "$$G_{t}\\prime = \\rho \\cdot G_{t-1} + (1-\\rho)\\cdot (dw_{t})^2$$\n",
        "\n",
        "$$w = w - lr\\cdot\\frac{1}{\\sqrt{G\\prime+\\epsilon}}\\cdot dw$$\n",
        "\n",
        "```python\n",
        "tf.keras.optimizers.experimental.RMSprop(\n",
        "    learning_rate=0.001,\n",
        "    rho=0.9,\n",
        "    ...\n",
        ")\n",
        "```\n",
        "\n",
        "### Adam\n",
        "\n",
        "RMSprop 방법에 momentum 을 추가한 방법임\n",
        "\n",
        "현재 가장 널리 사용되고 있는 최적화 알고리즘\n",
        "\n",
        "```python\n",
        "tf.keras.optimizers.Adam(\n",
        "    learning_rate=0.001,\n",
        "    beta_1=0.9,\n",
        "    beta_2=0.999,\n",
        "    ...\n",
        ")\n",
        "\n",
        "```\n",
        "\n",
        "<img src=\"https://user-images.githubusercontent.com/11681225/50016682-39742a80-000d-11e9-81da-ab0406610b9c.gif\">\n",
        "\n",
        "<img src=\"https://user-images.githubusercontent.com/11681225/49325458-fc785480-f585-11e8-8d2a-9012d6024c6e.gif\">\n",
        "\n",
        "[멋진 설명(33-50p)](https://www.slideshare.net/yongho/ss-79607172) - Kakao 하용호님\n",
        "\n",
        "<img src=\"https://user-images.githubusercontent.com/45377884/91630397-18838100-ea0c-11ea-8f90-515ef74599f1.png\">\n",
        "\n",
        "\n",
        "\n",
        "[Animation 참조](https://github.com/ilguyi/optimizers.numpy)\n"
      ]
    },
    {
      "cell_type": "code",
      "execution_count": null,
      "metadata": {
        "colab": {
          "base_uri": "https://localhost:8080/",
          "height": 460
        },
        "id": "1hj5EPe1gLe1",
        "outputId": "c7d916da-6e25-4ad5-e920-24b843e60ffd"
      },
      "outputs": [],
      "source": [
        "x = tf.Variable(2.0)\n",
        "y = tf.Variable(3.0)\n",
        "\n",
        "# https://www.tensorflow.org/api_docs/python/tf/keras/optimizers/experimental/SGD\n",
        "# Gradient descent (with momentum) optimizer.\n",
        "opt = tf.keras.optimizers.SGD(learning_rate=0.1) # learning_rate=0.001\n",
        "#opt = tf.keras.optimizers.Adam(learning_rate=0.1)\n",
        "#opt = tf.keras.optimizers.RMSprop(learning_rate=0.1)\n",
        "\n",
        "loss_list = [ ]\n",
        "for epoch in range(100):\n",
        "  with tf.GradientTape() as tape:\n",
        "    loss = x**2 + y**2\n",
        "  loss_list.append(loss.numpy())\n",
        "  #if loss < 0.001: break\n",
        "  dx, dy = tape.gradient(loss, [x, y])\n",
        "  grads_and_vars = zip([dx, dy], [x, y])\n",
        "  opt.apply_gradients(grads_and_vars)\n",
        "\n",
        "  if not epoch%10:\n",
        "    print(\"epoch={}: w={:>8.4f}. b={:>8.4f}, loss={:>8.4f}\".format(epoch, x.numpy(), y.numpy(), loss.numpy()))\n",
        "\n",
        "\n",
        "print(\"w={:>8.4f}. b={:>8.4f}, loss={:>8.4f}\".format(x.numpy(), y.numpy(), loss.numpy()))\n",
        "\n",
        "plt.plot(loss_list)\n",
        "plt.show()"
      ]
    },
    {
      "cell_type": "code",
      "execution_count": null,
      "metadata": {
        "id": "_3Y4SMgOa4YC"
      },
      "outputs": [],
      "source": [
        "# def MSE(y, t):\n",
        "#     return tf.reduce_mean((y-t)**2)\n",
        "\n",
        "tf_MSE = tf.keras.losses.MeanSquaredError()\n",
        "optimizer = tf.keras.optimizers.SGD(learning_rate=0.001)\n",
        "\n",
        "x = tf.range(20, dtype=tf.float32)\n",
        "t = tf.range(20, dtype=tf.float32)\n",
        "\n",
        "w = tf.Variable(0.5)\n",
        "b = tf.Variable(0.0)\n",
        "\n",
        "lr = 0.001  # 0.01, learning rate\n",
        "loss_list = []\n",
        "\n",
        "train_size = tf.size(t) # 12\n",
        "batch_size = 4\n",
        "\n",
        "# mini batch SGD\n",
        "K = train_size // batch_size # 3\n",
        "\n",
        "for epoch in range(100):\n",
        "    loss = 0\n",
        "    for step in range(K):\n",
        "        mask = np.random.choice(train_size, batch_size)\n",
        "        #print(mask)\n",
        "        x_batch = tf.gather(x, indices=mask)\n",
        "        t_batch = tf.gather(t, indices=mask)\n",
        "        with tf.GradientTape() as tape:\n",
        "          y = w*x_batch + b                          # calculate the output\n",
        "          loss += tf_MSE(y, t_batch) # calculate MSE\n",
        "        optimizer.minimize(loss, [w, b], tape=tape)\n",
        "        #dW = 2*tf.reduce_mean((y-t_batch)*x_batch) # gradients\n",
        "        #dB = 2*tf.reduce_mean((y-t_batch))\n",
        "        #print('dW', dW)\n",
        "        #print('dB', dB)\n",
        "        #w.assign_sub(lr*dW)\n",
        "        #b.assign_sub(lr*dB)\n",
        "\n",
        "    loss /= tf.cast(K, dtype=tf.float32)   # average loss\n",
        "    loss_list.append(loss.numpy())\n",
        "    if not epoch%10:\n",
        "        print(\"epoch={}: w={:>8.4f}. b={:>8.4f}, loss={:>8.4f}\".format(epoch, w.numpy(), b.numpy(), loss.numpy()))\n",
        "\n",
        "print(\"w={:>8.4f}. b={:>8.4f}, loss={:>8.4f}\".format(w.numpy(), b.numpy(), loss.numpy()))\n",
        "\n",
        "plt.plot(loss_list)\n",
        "plt.show()"
      ]
    },
    {
      "attachments": {},
      "cell_type": "markdown",
      "metadata": {
        "id": "OynmCv0DZiOt"
      },
      "source": [
        "# 3.4 simple linear regression"
      ]
    },
    {
      "cell_type": "code",
      "execution_count": null,
      "metadata": {
        "colab": {
          "base_uri": "https://localhost:8080/",
          "height": 267
        },
        "id": "973J3NpjJ9rS",
        "outputId": "6883e9a7-13e2-4377-ef13-0e1cc1ca70ce"
      },
      "outputs": [],
      "source": [
        "# https://www.tensorflow.org/tutorials/keras/regression\n",
        "# Predict fuel efficiency with the Auto MPG dataset\n",
        "\n",
        "url = 'http://archive.ics.uci.edu/ml/machine-learning-databases/auto-mpg/auto-mpg.data'\n",
        "column_names = ['MPG', 'Cylinders', 'Displacement', 'Horsepower', 'Weight',\n",
        "                'Acceleration', 'Model Year', 'Origin']\n",
        "\n",
        "raw_dataset = pd.read_csv(url, names=column_names,\n",
        "                          na_values='?', comment='\\t',\n",
        "                          sep=' ', skipinitialspace=True)\n",
        "MPG_dataset = raw_dataset.copy()\n",
        "MPG_dataset.head()\n"
      ]
    },
    {
      "cell_type": "code",
      "execution_count": null,
      "metadata": {
        "colab": {
          "base_uri": "https://localhost:8080/"
        },
        "id": "Jv_ktwsZPYX-",
        "outputId": "09b432f6-18aa-434e-add9-5689238dcf8a"
      },
      "outputs": [],
      "source": [
        "print(MPG_dataset.isna().sum())\n",
        "MPG_dataset = MPG_dataset.dropna()"
      ]
    },
    {
      "cell_type": "code",
      "execution_count": null,
      "metadata": {
        "colab": {
          "base_uri": "https://localhost:8080/",
          "height": 715
        },
        "id": "KmaVwB5pKO5t",
        "outputId": "6af1b495-559c-412c-d3ef-10f5c09f9156"
      },
      "outputs": [],
      "source": [
        "import seaborn as sns\n",
        "\n",
        "train_dataset = MPG_dataset.sample(frac=0.8, random_state=0)\n",
        "test_dataset = MPG_dataset.drop(train_dataset.index)\n",
        "sns.pairplot(train_dataset[['MPG', 'Cylinders', 'Displacement', 'Weight']], diag_kind='kde')\n"
      ]
    },
    {
      "cell_type": "code",
      "execution_count": null,
      "metadata": {
        "colab": {
          "base_uri": "https://localhost:8080/",
          "height": 382
        },
        "id": "lyqdT_RbKjvt",
        "outputId": "e2550ec1-56a7-4e29-9a4f-b42de12f7795"
      },
      "outputs": [],
      "source": [
        "train_dataset.corr() # miles per gallon"
      ]
    },
    {
      "cell_type": "code",
      "execution_count": null,
      "metadata": {
        "id": "C_eeUGg0cgkR"
      },
      "outputs": [],
      "source": []
    },
    {
      "cell_type": "code",
      "execution_count": null,
      "metadata": {
        "id": "9lDIfwnHLTee"
      },
      "outputs": [],
      "source": [
        "def load_MPG_train_dataset(columns):\n",
        "  x = train_dataset[columns].to_numpy()\n",
        "  y = train_dataset[['MPG']].to_numpy()\n",
        "  return (x, y)\n",
        "\n",
        "def load_MPG_test_dataset(columns):\n",
        "  x = test_dataset[columns].to_numpy()\n",
        "  y = test_dataset[['MPG']].to_numpy()\n",
        "  return (x, y)"
      ]
    },
    {
      "cell_type": "code",
      "execution_count": null,
      "metadata": {
        "colab": {
          "base_uri": "https://localhost:8080/",
          "height": 460
        },
        "id": "jxAPtkfUOZcc",
        "outputId": "08930bc8-3618-4cc7-872f-8df980bf4c35"
      },
      "outputs": [],
      "source": [
        "# gradient descent\n",
        "x, y = load_MPG_train_dataset(['Horsepower'])\n",
        "\n",
        "w = tf.Variable(tf.random.normal([]))\n",
        "b = tf.Variable(tf.random.normal([]))\n",
        "\n",
        "loss_list = []\n",
        "\n",
        "tf_MSE = tf.keras.losses.MeanSquaredError()\n",
        "optimizer = tf.keras.optimizers.SGD(learning_rate=0.001)\n",
        "\n",
        "for epoch in range(100):\n",
        "  with tf.GradientTape() as tape:\n",
        "    y_hat = w * x + b\n",
        "    loss = tf_MSE(y_hat, y)\n",
        "\n",
        "  dw, db = tape.gradient(loss, [w, b])\n",
        "  opt.apply_gradients([[dw, w], [db, b]])\n",
        "  loss_list.append(loss.numpy())\n",
        "\n",
        "  if not epoch%10:\n",
        "    print(\"epoch={}: w={:>8.4f}. b={:>8.4f}, loss={:>8.4f}\".format(epoch, w.numpy(), b.numpy(), loss.numpy()))\n",
        "\n",
        "print(\"w={:>8.4f}. b={:>8.4f}, loss={:>8.4f}\".format(w.numpy(), b.numpy(), loss.numpy()))\n",
        "\n",
        "plt.plot(loss_list)\n",
        "plt.show()"
      ]
    },
    {
      "cell_type": "code",
      "execution_count": null,
      "metadata": {
        "colab": {
          "base_uri": "https://localhost:8080/",
          "height": 470
        },
        "id": "-PU_1IUxSpvP",
        "outputId": "c0b50249-8c4a-493b-863d-6db115864817"
      },
      "outputs": [],
      "source": [
        "# mini-batch gradient descent\n",
        "x, y = load_MPG_train_dataset(['Horsepower'])\n",
        "batch_size = 32\n",
        "dataset = tf.data.Dataset.from_tensor_slices((x, y))\n",
        "w = tf.Variable(tf.random.normal([]))\n",
        "b = tf.Variable(tf.random.normal([]))\n",
        "\n",
        "loss_list = []\n",
        "\n",
        "tf_MSE = tf.keras.losses.MeanSquaredError()\n",
        "optimizer = tf.keras.optimizers.Adam()\n",
        "\n",
        "for epoch in range(100):\n",
        "  dataset_train = dataset.shuffle(buffer_size=1024).batch(batch_size)\n",
        "  for step, (x_batch, y_batch) in enumerate(dataset_train):\n",
        "    #print('step', step)\n",
        "    #print('x_batch', x_batch.shape)\n",
        "    #print('y_batch', y_batch.shape)\n",
        "    with tf.GradientTape() as tape:\n",
        "      y_hat = w * x + b\n",
        "      loss = tf_MSE(y_hat, y)\n",
        "\n",
        "    dw, db = tape.gradient(loss, [w, b]) #미분해줘\n",
        "    opt.apply_gradients([[dw, w], [db, b]])\n",
        "    loss/=batch_size\n",
        "    loss_list.append(loss.numpy())\n",
        "\n",
        "  if not epoch%10:\n",
        "    print(\"epoch={}: w={:>8.4f}. b={:>8.4f}, loss={:>8.4f}\".format(epoch, w.numpy(), b.numpy(), loss.numpy()))\n",
        "\n",
        "print(\"w={:>8.4f}. b={:>8.4f}, loss={:>8.4f}\".format(w.numpy(), b.numpy(), loss.numpy()))\n",
        "\n",
        "fig, axs = plt.subplots(1, 3, figsize=(15, 5))\n",
        "axs[0].plot(loss_list)\n",
        "axs[0].set(xlabel=\"epochs\", ylabel=\"loss\")\n",
        "\n",
        "axs[1].scatter(x, y)\n",
        "axs[1].plot(x, w*x+b, color='g')\n",
        "axs[1].set(xlabel=\"Horsepower\", ylabel=\"MPG\")\n",
        "\n",
        "x, y = load_MPG_test_dataset(['Horsepower'])\n",
        "axs[2].scatter(x, y)\n",
        "axs[2].plot(x, w*x+b, color='r')\n",
        "axs[2].set(xlabel=\"Horsepower\", ylabel=\"MPG\")\n",
        "print(\"loss={:>8.4f}\".format(tf_MSE(w*x+b, y)))\n",
        "\n"
      ]
    },
    {
      "attachments": {},
      "cell_type": "markdown",
      "metadata": {
        "id": "i7GWC3OAZn66"
      },
      "source": [
        "# 3.5 multiple linear regression"
      ]
    },
    {
      "cell_type": "code",
      "execution_count": null,
      "metadata": {
        "colab": {
          "base_uri": "https://localhost:8080/",
          "height": 469
        },
        "id": "2WEUCfGFc_51",
        "outputId": "91cb1386-182e-469c-8e71-469c5487e0a5"
      },
      "outputs": [],
      "source": [
        "# mini-batch gradient descent\n",
        "x, y = load_MPG_train_dataset(column_names[1:])\n",
        "batch_size = 32\n",
        "dataset = tf.data.Dataset.from_tensor_slices((x, y))\n",
        "w = tf.Variable(tf.random.normal(shape=(x.shape[1],1)))\n",
        "b = tf.Variable(tf.random.normal([]))\n",
        "\n",
        "loss_list = []\n",
        "\n",
        "tf_MSE = tf.keras.losses.MeanSquaredError()\n",
        "optimizer = tf.keras.optimizers.Adam()\n",
        "\n",
        "for epoch in range(100):\n",
        "  dataset_train = dataset.shuffle(buffer_size=1024).batch(batch_size)\n",
        "  for step, (x_batch, y_batch) in enumerate(dataset_train):\n",
        "    #print('step', step)\n",
        "    #print('x_batch', x_batch.shape)\n",
        "    #print('y_batch', y_batch.shape)\n",
        "    with tf.GradientTape() as tape:\n",
        "      y_hat = x @ w + b\n",
        "      loss = tf_MSE(y_hat, y)\n",
        "\n",
        "    dw, db = tape.gradient(loss, [w, b])\n",
        "    opt.apply_gradients([[dw, w], [db, b]])\n",
        "    loss/=batch_size\n",
        "    loss_list.append(loss.numpy())\n",
        "\n",
        "  if not epoch%10:\n",
        "    print(\"epoch={}: loss={:>8.4f}\".format(epoch, loss.numpy()))\n",
        "\n",
        "print(\"loss={:>8.4f}\".format(loss.numpy()))\n",
        "\n",
        "fig, ax = plt.subplots(figsize=(15, 5))\n",
        "ax.plot(loss_list)\n",
        "ax.set(xlabel=\"epochs\", ylabel=\"loss\")\n",
        "\n",
        "#axs[1].scatter(x, y)\n",
        "#axs[1].plot(x, w*x+b, color='g')\n",
        "#axs[1].set(xlabel=\"Horsepower\", ylabel=\"MPG\")\n",
        "\n",
        "x, y = load_MPG_test_dataset(column_names[1:])\n",
        "#axs[2].scatter(x, y)\n",
        "#axs[2].plot(x, w*x+b, color='r')\n",
        "#axs[2].set(xlabel=\"Horsepower\", ylabel=\"MPG\")\n",
        "print(\"loss={:>8.4f}\".format(tf.reduce_mean(tf_MSE(x@w+b, y))))"
      ]
    },
    {
      "attachments": {},
      "cell_type": "markdown",
      "metadata": {
        "id": "Wvg5fPQK2Fo6"
      },
      "source": [
        "# 과제 002\n",
        "\n",
        "주어진 보스톤 주택 가격 데이터 셋을 이용하여 주택 가격을 예측하는 multiple variables regression 을 수행하는 프로그램을 직접 작성하시오.\n",
        "\n",
        "단, 아래 조건을 만족하여 구현하시오.\n",
        "\n",
        "* loss 함수: tensorflow 의 MSE\n",
        "* gradient 계산: tensorflow의 GradientTape()\n",
        "* optimizer: tensorflow의 Adam\n",
        "\n",
        "**제출**\n",
        "\n",
        "구현한 코드가 담긴 colab 파일을 PLATO \"텐서플로 과제 제출 01\"에 제출하세요. (23/7/6까지)\n",
        "\n",
        "```python\n",
        "import tensorflow as tf\n",
        "import pandas as pd\n",
        "import matplotlib.pyplot as plt\n",
        "import numpy as np\n",
        "\n",
        "# https://www.tensorflow.org/api_docs/python/tf/keras/datasets/boston_housing/load_data\n",
        "# features 설명 (http://lib.stat.cmu.edu/datasets/boston)\n",
        "# 보스톤 주택 가격(MEDV) 예측 (1인당 범죄율, 주택당 평균 방 개수, 학생대 교사 비율 등의 features 이용함)\n",
        "# MEDV(주택 가격 중앙값, 단위: $1,000)\n",
        "\n",
        "(x_train, y_train), (x_test, y_test) = tf.keras.datasets.boston_housing.load_data(\n",
        "    path='boston_housing.npz', test_split=0.2, seed=113\n",
        ")\n",
        "print('x_train.shape', 'y_train.shape', x_train.shape, y_train.shape)\n",
        "\n",
        "all_train_data = np.hstack((x_train, y_train.reshape((-1, 1))))\n",
        "column_names = ['CRIM', 'ZN', 'INDUS', 'CHAS', 'NOX', 'RM', 'AGE', 'DIS', 'RAD', 'TAX', 'PTRATIO', 'B', 'LSTAT', 'MEDV']\n",
        "df = pd.DataFrame(all_train_data, columns=column_names)\n",
        "df.head()\n",
        "sns.pairplot(df[['CRIM', 'ZN', 'INDUS', 'TAX', 'MEDV']], diag_kind='kde')\n",
        "```\n",
        "\n",
        "* 힌트:\n",
        "https://dschloe.github.io/python/tensorflow2.0/ch4_4_boston_housing_deeplearning/"
      ]
    }
  ],
  "metadata": {
    "colab": {
      "provenance": []
    },
    "kernelspec": {
      "display_name": "Python 3",
      "name": "python3"
    },
    "language_info": {
      "codemirror_mode": {
        "name": "ipython",
        "version": 3
      },
      "file_extension": ".py",
      "mimetype": "text/x-python",
      "name": "python",
      "nbconvert_exporter": "python",
      "pygments_lexer": "ipython3",
      "version": "3.10.9"
    }
  },
  "nbformat": 4,
  "nbformat_minor": 0
}
